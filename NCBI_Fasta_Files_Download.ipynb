{
  "nbformat": 4,
  "nbformat_minor": 0,
  "metadata": {
    "colab": {
      "name": "NCBI_Fasta_Files_Download.ipynb",
      "provenance": [],
      "collapsed_sections": []
    },
    "kernelspec": {
      "name": "python3",
      "display_name": "Python 3"
    },
    "language_info": {
      "name": "python"
    }
  },
  "cells": [
    {
      "cell_type": "code",
      "source": [
        "from google.colab import drive\n",
        "drive.mount('/content/drive')\n"
      ],
      "metadata": {
        "colab": {
          "base_uri": "https://localhost:8080/"
        },
        "id": "TqTns0NuleUd",
        "outputId": "d8c477e6-cdc3-4f83-e94c-cca0d6ef5c42"
      },
      "execution_count": null,
      "outputs": [
        {
          "output_type": "stream",
          "name": "stdout",
          "text": [
            "Drive already mounted at /content/drive; to attempt to forcibly remount, call drive.mount(\"/content/drive\", force_remount=True).\n"
          ]
        }
      ]
    },
    {
      "cell_type": "code",
      "source": [
        "import pandas as pd \n",
        "\n",
        "df = pd.read_csv(\"/content/drive/MyDrive/sequences.csv\") #, usecols=col_list\n",
        "accesion_list = list(df[\"Accession\"])\n",
        "\n",
        "#For testing, using only 4 accession id \n",
        "df1 = df.iloc[:4]\n",
        "accesion_list = list(df1[\"Accession\"])\n",
        "\n",
        "\n",
        "print(\"This is the accession list\", accesion_list)\n"
      ],
      "metadata": {
        "colab": {
          "base_uri": "https://localhost:8080/"
        },
        "id": "y0FlueppnGnC",
        "outputId": "1318093f-4ce4-403d-a155-9ca6866c64af"
      },
      "execution_count": null,
      "outputs": [
        {
          "output_type": "stream",
          "name": "stdout",
          "text": [
            "This is the accession list ['ON620597', 'ON620600', 'ON620604', 'ON620606']\n"
          ]
        }
      ]
    },
    {
      "cell_type": "code",
      "source": [
        "#Downloading all accession lists fasta files in one big file\n",
        "\n",
        "import os\n",
        "from Bio import SeqIO\n",
        "from Bio import Entrez\n",
        "\n",
        "Entrez.email = \"rakesh.gartaula@coyotes.usd.edu\"  # Always tell NCBI who you are\n",
        "filename = \"./All_fasta_files.fasta\"\n",
        "if not os.path.isfile(filename):\n",
        "    # Downloading...\n",
        "    net_handle = Entrez.efetch(\n",
        "        db=\"nuccore\", id=accesion_list, rettype=\"fasta\", retmode=\"text\" #ON167546 --CHANGE THE FASTA ID --\n",
        "    )\n",
        "    out_handle = open(filename, \"w\")\n",
        "    out_handle.write(net_handle.read())\n",
        "    out_handle.close()\n",
        "    net_handle.close()\n",
        "    print(\"Saved\")\n",
        "\n",
        "print(\"Parsing...\")\n",
        "record = SeqIO.parse(filename, \"fasta\")\n",
        "print(record)\n",
        "\n"
      ],
      "metadata": {
        "colab": {
          "base_uri": "https://localhost:8080/"
        },
        "id": "2BuJRlEhaKyD",
        "outputId": "9d6ae263-256b-442b-87fd-9ab4683fed1a"
      },
      "execution_count": null,
      "outputs": [
        {
          "output_type": "stream",
          "name": "stdout",
          "text": [
            "Parsing...\n",
            "<Bio.SeqIO.FastaIO.FastaIterator object at 0x7fbfde3b9110>\n"
          ]
        }
      ]
    },
    {
      "cell_type": "code",
      "source": [
        "#Downloading all the fasta files in individual file\n",
        "#More time consuming\n",
        "\n",
        "import os\n",
        "from Bio import SeqIO\n",
        "from Bio import Entrez\n",
        "import time\n",
        "\n",
        "Entrez.email = \"rakesh.gartaula@coyotes.usd.edu\"  # Always tell NCBI who you are\n",
        "print (\"script start time\",time.strftime(\"%H:%M:%S\"))\n",
        "start_time_interval = time.time()\n",
        "for id in accesion_list:\n",
        "    filename = \"./Fasta_file_\"+id+\".fasta\"  #Output file naming convention for all fasta files\n",
        "    if not os.path.isfile(filename):\n",
        "        # Downloading...\n",
        "        net_handle = Entrez.efetch(\n",
        "            db=\"nuccore\", id=id, rettype=\"fasta\", retmode=\"text\" #id refers to the accession ids from the accession list.\n",
        "        )\n",
        "        out_handle = open(filename, \"w\")\n",
        "        out_handle.write(net_handle.read())\n",
        "        out_handle.close()\n",
        "        net_handle.close()\n",
        "        #print(\"All Fasta records are Saved successfully\")\n",
        "\n",
        "print(\"Parsing...\")\n",
        "record = SeqIO.parse(filename, \"fasta\")\n",
        "print(record)\n",
        "end_time_interval = time.time()\n",
        "print (\"script completed time\",time.strftime(\"%H:%M:%S\"))\n",
        "print(\"Total time for completion (in seconds): \",round(time.time() - start_time_interval,2), \"seconds\")\n",
        "out_handle.close()\n",
        "net_handle.close()\n"
      ],
      "metadata": {
        "colab": {
          "base_uri": "https://localhost:8080/"
        },
        "id": "NB_Mc6pjaPGM",
        "outputId": "811eaf23-789a-4b94-b331-9cef03d0f14a"
      },
      "execution_count": null,
      "outputs": [
        {
          "output_type": "stream",
          "name": "stdout",
          "text": [
            "script start time 22:35:03\n",
            "Parsing...\n",
            "<Bio.SeqIO.FastaIO.FastaIterator object at 0x7fbfdda4b2d0>\n",
            "script completed time 22:35:04\n",
            "Total time for completion (in seconds):  1.33 seconds\n"
          ]
        }
      ]
    }
  ]
}